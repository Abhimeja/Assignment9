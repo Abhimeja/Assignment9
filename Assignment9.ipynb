{
 "cells": [
  {
   "cell_type": "markdown",
   "id": "bb1e58d7-0442-4f96-9d06-38b32763c85f",
   "metadata": {},
   "source": [
    "Q.1- What is an Exception in python?Write a difference between Exception and Syntax errors.\n",
    "\n",
    "Ans--"
   ]
  },
  {
   "cell_type": "markdown",
   "id": "79b581dd-98b4-411f-bb1b-7c515d448570",
   "metadata": {},
   "source": [
    "In Python, an exception is an event that occurs during the execution of a program, which disrupts the normal flow of the program's instructions. When an exceptional situation occurs, Python creates an exception object that contains information about the error, such as its type and an optional error message. This exception object is then raised, or thrown, to indicate that an error has occurred.\n",
    "\n",
    "Exceptions are used to handle various types of errors and exceptional situations that can occur in a program, such as division by zero, accessing an invalid index in a list, or opening a file that doesn't exist. By using exception handling, you can catch these exceptions and gracefully handle them, rather than allowing the program to crash.\n",
    "\n",
    "On the other hand, syntax errors, also known as parsing errors, are errors that occur when you write code that does not follow the correct syntax or grammar of the programming language. Syntax errors prevent the program from being executed because the interpreter or compiler cannot understand the code.\n",
    "\n",
    "Here are the main differences between exceptions and syntax errors:\n",
    "\n",
    "1.Occurrence: Exceptions occur during the execution of a program when an error or exceptional situation arises, while syntax errors occur during the parsing or compilation stage when the code is being translated into machine-readable instructions.\n",
    "\n",
    "2.Handling: Exceptions can be caught and handled using exception handling mechanisms such as try-except blocks, allowing the program to recover from errors and continue execution. Syntax errors, on the other hand, must be fixed before the program can be executed because they indicate a fundamental problem with the code's syntax.\n",
    "\n",
    "3.Impact: Exceptions interrupt the normal flow of the program, but they can be handled and controlled, allowing the program to handle errors and continue executing. Syntax errors, however, prevent the program from being executed altogether until the errors are fixed."
   ]
  },
  {
   "cell_type": "markdown",
   "id": "bbfeb779-fece-4424-81b7-e98b5c0c6842",
   "metadata": {},
   "source": [
    "Q2. What happens when an exception is not handled? Explain with an example.\n",
    "\n",
    "Ans--"
   ]
  },
  {
   "cell_type": "markdown",
   "id": "ea78e0c6-2d7e-44a5-af97-aca2a9943464",
   "metadata": {},
   "source": [
    "When an exception is not handled, it propagates up the call stack until it reaches the top-level caller or the system's default exception handler. This can lead to abrupt termination of the program and the display of an error message or stack trace, indicating the unhandled exception and its origin.\n",
    "\n",
    "Here's an example in Python to illustrate the consequences of an unhandled exception:"
   ]
  },
  {
   "cell_type": "code",
   "execution_count": 1,
   "id": "1658883b-7cc9-4edd-bede-51602be54db3",
   "metadata": {},
   "outputs": [
    {
     "ename": "ZeroDivisionError",
     "evalue": "division by zero",
     "output_type": "error",
     "traceback": [
      "\u001b[0;31m---------------------------------------------------------------------------\u001b[0m",
      "\u001b[0;31mZeroDivisionError\u001b[0m                         Traceback (most recent call last)",
      "Cell \u001b[0;32mIn[1], line 9\u001b[0m\n\u001b[1;32m      6\u001b[0m num1 \u001b[38;5;241m=\u001b[39m \u001b[38;5;241m10\u001b[39m\n\u001b[1;32m      7\u001b[0m num2 \u001b[38;5;241m=\u001b[39m \u001b[38;5;241m0\u001b[39m\n\u001b[0;32m----> 9\u001b[0m result \u001b[38;5;241m=\u001b[39m \u001b[43mdivide\u001b[49m\u001b[43m(\u001b[49m\u001b[43mnum1\u001b[49m\u001b[43m,\u001b[49m\u001b[43m \u001b[49m\u001b[43mnum2\u001b[49m\u001b[43m)\u001b[49m\n\u001b[1;32m     10\u001b[0m \u001b[38;5;28mprint\u001b[39m(\u001b[38;5;124m\"\u001b[39m\u001b[38;5;124mResult:\u001b[39m\u001b[38;5;124m\"\u001b[39m, result)\n",
      "Cell \u001b[0;32mIn[1], line 2\u001b[0m, in \u001b[0;36mdivide\u001b[0;34m(a, b)\u001b[0m\n\u001b[1;32m      1\u001b[0m \u001b[38;5;28;01mdef\u001b[39;00m \u001b[38;5;21mdivide\u001b[39m(a, b):\n\u001b[0;32m----> 2\u001b[0m     result \u001b[38;5;241m=\u001b[39m \u001b[43ma\u001b[49m\u001b[43m \u001b[49m\u001b[38;5;241;43m/\u001b[39;49m\u001b[43m \u001b[49m\u001b[43mb\u001b[49m\n\u001b[1;32m      3\u001b[0m     \u001b[38;5;28;01mreturn\u001b[39;00m result\n",
      "\u001b[0;31mZeroDivisionError\u001b[0m: division by zero"
     ]
    }
   ],
   "source": [
    "def divide(a, b):\n",
    "    result = a / b\n",
    "    return result\n",
    "\n",
    "# Main program\n",
    "num1 = 10\n",
    "num2 = 0\n",
    "\n",
    "result = divide(num1, num2)\n",
    "print(\"Result:\", result)\n"
   ]
  },
  {
   "cell_type": "markdown",
   "id": "646174bd-3aac-4619-ad5b-ee1fdcbc6c3e",
   "metadata": {},
   "source": [
    "Handling exceptions allows you to catch and respond to these unexpected situations gracefully, rather than having the program abruptly terminate."
   ]
  },
  {
   "cell_type": "markdown",
   "id": "988782a2-8659-49fa-aa1f-b837678e015e",
   "metadata": {},
   "source": [
    "Q.3- Which python statements are use to catch and handle exceptions?Explain with an example."
   ]
  },
  {
   "cell_type": "markdown",
   "id": "9231d548-abe9-4d3d-acfa-4b8fced04d47",
   "metadata": {},
   "source": [
    "In Python, exceptions can be caught and handled using the try-except statement. This construct allows you to write code that may potentially raise an exception and handle it gracefully, preventing your program from terminating unexpectedly.\n",
    "\n",
    "Here's the syntax of the 'try-except' statement:"
   ]
  },
  {
   "cell_type": "code",
   "execution_count": 2,
   "id": "219d3e19-8e63-44d5-8db5-133d538ffe22",
   "metadata": {},
   "outputs": [
    {
     "name": "stdin",
     "output_type": "stream",
     "text": [
      "Enter a number: 24\n",
      "Enter another number: 0\n"
     ]
    },
    {
     "name": "stdout",
     "output_type": "stream",
     "text": [
      "Error:Division by zero is not allowed.\n"
     ]
    }
   ],
   "source": [
    "try:\n",
    "    x=int(input(\"Enter a number:\"))\n",
    "    y=int(input(\"Enter another number:\"))\n",
    "    result=x/y\n",
    "    print(\"The result is:\",result)\n",
    "except ValueError:\n",
    "    print(\"Invalid input.Please enter vaild integers.\")\n",
    "except ZeroDivisionError:\n",
    "    print(\"Error:Division by zero is not allowed.\")\n",
    "except Exception as e:\n",
    "    print(\"An error occurred:\",str(e))\n"
   ]
  },
  {
   "cell_type": "markdown",
   "id": "6cd08378-c9b7-4c5c-8740-c782bdd96536",
   "metadata": {},
   "source": [
    "By using the try-except statement, you can handle specific exceptions or provide a catch-all block to handle any other unforeseen exceptions. This way, your program can gracefully recover from errors and continue executing instead of crashing."
   ]
  },
  {
   "cell_type": "markdown",
   "id": "fee9da6a-9331-4b4c-8256-6e4136c11d08",
   "metadata": {},
   "source": [
    "Q.4-Explain with an Example:\n",
    "\n",
    "a. try and else\n",
    "\n",
    "b. finally\n",
    "\n",
    "c. raise\n",
    "\n",
    "Ans--"
   ]
  },
  {
   "cell_type": "markdown",
   "id": "c4d642a4-4178-4cd0-b046-78f0d9fa2518",
   "metadata": {},
   "source": [
    "A. try and else are two keywords used in exception handling in programming languages like Python.\n",
    "\n",
    "The try block is used to enclose a section of code that might raise an exception. If an exception occurs within the try block, the code immediately jumps to the corresponding except block to handle the exception.\n",
    "\n",
    "The else block is optional and comes after the try and except blocks. It is executed only if no exceptions are raised within the try block. It allows you to specify code that should be executed when the try block completes successfully.\n",
    "\n",
    "Example:"
   ]
  },
  {
   "cell_type": "code",
   "execution_count": 3,
   "id": "e34a021c-70e6-4767-b498-2b53a7e9d154",
   "metadata": {},
   "outputs": [
    {
     "name": "stdout",
     "output_type": "stream",
     "text": [
      "The result is: 5.0\n"
     ]
    }
   ],
   "source": [
    "try:\n",
    "    x=10\n",
    "    y=2\n",
    "    result=x/y\n",
    "except ZeroDivisionError:\n",
    "    print(\"Error:Divison by zero\")\n",
    "else:\n",
    "    print(\"The result is:\",result)"
   ]
  },
  {
   "cell_type": "markdown",
   "id": "52aa21e2-d151-4003-a128-4704794dd257",
   "metadata": {},
   "source": [
    "B. finally is another keyword used in exception handling that ensures a section of code is executed regardless of whether an exception occurred or not. It is typically used to perform cleanup operations or release resources.\n",
    "\n",
    "Example:"
   ]
  },
  {
   "cell_type": "code",
   "execution_count": 10,
   "id": "9118fca8-b59c-4401-958d-67f44f3c6c2e",
   "metadata": {},
   "outputs": [
    {
     "name": "stdout",
     "output_type": "stream",
     "text": [
      "File closed\n"
     ]
    }
   ],
   "source": [
    "try:\n",
    "    file = open(\"example.txt\", \"w\")\n",
    "    file.write(\"My name is Abhishek Mishra\")\n",
    "finally:\n",
    "    file.close()\n",
    "    print(\"File closed\")\n"
   ]
  },
  {
   "cell_type": "markdown",
   "id": "d18012ef-5ac5-4a2d-9770-7a0cb87c6ae6",
   "metadata": {},
   "source": [
    "C. raise is a keyword used to explicitly raise an exception in a program. It allows you to create and raise your own exceptions, or raise built-in exceptions provided by the programming language.\n",
    "\n",
    "Example:"
   ]
  },
  {
   "cell_type": "code",
   "execution_count": 11,
   "id": "8949d86b-09f5-4c46-9d15-bbdf4cbe254e",
   "metadata": {},
   "outputs": [
    {
     "name": "stdout",
     "output_type": "stream",
     "text": [
      "Exception: Price exceeds the maximum limit\n"
     ]
    }
   ],
   "source": [
    "def calculate_discount(price):\n",
    "    if price < 0:\n",
    "        raise ValueError(\"Price cannot be negative\")\n",
    "    elif price > 100:\n",
    "        raise Exception(\"Price exceeds the maximum limit\")\n",
    "    else:\n",
    "        discount = price * 0.1\n",
    "        return discount\n",
    "\n",
    "try:\n",
    "    discount_amount = calculate_discount(150)\n",
    "except ValueError as e:\n",
    "    print(\"ValueError:\", str(e))\n",
    "except Exception as e:\n",
    "    print(\"Exception:\", str(e))\n"
   ]
  },
  {
   "cell_type": "markdown",
   "id": "3d16bfe9-0a39-4b43-a5fa-364262f8f403",
   "metadata": {},
   "source": [
    "Q.4 What are custom Exceptions in python?Why do we need Custom Exceptions?Explain with an Example.\n",
    "\n",
    "Ans--"
   ]
  },
  {
   "cell_type": "markdown",
   "id": "f2d61888-5312-4d35-8c57-d200c093530c",
   "metadata": {},
   "source": [
    "In Python, custom exceptions are user-defined exceptions that allow you to create and raise your own exceptional conditions based on specific requirements in your code. Custom exceptions are derived from the built-in Exception class or any of its subclasses.\n",
    "\n",
    "Custom exceptions are useful for several reasons:\n",
    "\n",
    "1.Semantic clarity: By creating custom exceptions, you can give meaningful names to specific error conditions that occur in your code. This enhances code readability and makes it easier to understand the purpose of the exception being raised.\n",
    "\n",
    "2.Error handling: Custom exceptions allow you to handle different error scenarios in a more specific and granular manner. You can catch and handle specific exceptions differently based on their types, providing appropriate error messages or taking specific actions.\n",
    "\n",
    "3.Modularity and extensibility: Custom exceptions provide a way to encapsulate error-handling logic within your own classes or modules. This allows for cleaner and more modular code design, making it easier to reuse or extend your code in different contexts.\n",
    "\n",
    "Example to illustrate how custom exceptions can be used:"
   ]
  },
  {
   "cell_type": "code",
   "execution_count": 17,
   "id": "6de0b8e5-ce0b-4365-8af2-d47242835b8c",
   "metadata": {},
   "outputs": [
    {
     "name": "stdout",
     "output_type": "stream",
     "text": [
      "Insufficient funds in account '123456789'. Available balance: 10000. Requested amount: 12000.\n"
     ]
    }
   ],
   "source": [
    "class InsufficientFundsError(Exception):\n",
    "    def __init__(self,account_number,balance,amount):\n",
    "        self.account_number=account_number\n",
    "        self.balance=balance\n",
    "        self.account=account\n",
    "        message=f\"Insufficient funds in account '{account_number}'.\"\n",
    "        message+=f\" Available balance: {balance}. Requested amount: {amount}.\"\n",
    "        super().__init__(message)\n",
    "class BankAccount:\n",
    "    def __init__(self,account_number, initial_balance):\n",
    "        self.account_number=account_number\n",
    "        self.balance=initial_balance\n",
    "    def withdraw(self,amount):\n",
    "        if amount>self.balance:\n",
    "            raise InsufficientFundsError(self.account_number,self.balance,amount)\n",
    "        self.balance-=amount\n",
    "        \n",
    "account=BankAccount(\"123456789\",10000)\n",
    "try:\n",
    "    account.withdraw(12000)\n",
    "except InsufficientFundsError as e:\n",
    "    print(e)"
   ]
  },
  {
   "cell_type": "markdown",
   "id": "355838a6-50a6-43f7-94d0-5d6d1fcf562e",
   "metadata": {},
   "source": [
    "Q.5 Create a Custom Exception class.Use this class to handle an exception.\n",
    "\n",
    "Ans--"
   ]
  },
  {
   "cell_type": "code",
   "execution_count": 20,
   "id": "f949c2b3-d426-4357-86e5-9c3aafd4e481",
   "metadata": {},
   "outputs": [
    {
     "name": "stdin",
     "output_type": "stream",
     "text": [
      "Enter your age:  27\n"
     ]
    },
    {
     "name": "stdout",
     "output_type": "stream",
     "text": [
      "Your age is:  27\n"
     ]
    }
   ],
   "source": [
    "class CustomException(Exception):\n",
    "    def __init__(self,message):\n",
    "        self.message=message\n",
    "        super().__init__(self.message)\n",
    "try:\n",
    "    age=int(input(\"Enter your age: \"))\n",
    "    if age<0:\n",
    "        raise CustomException(\"Age cannot be negative\")\n",
    "    print(\"Your age is: \",age)\n",
    "except CustomException as e:\n",
    "    print(\"CustomException:\",e.message)\n",
    "except ValueError:\n",
    "    print(\"Invalid input.Plese enter a valid integer.\")"
   ]
  },
  {
   "cell_type": "code",
   "execution_count": null,
   "id": "2af662a1-49fd-45b7-bfc9-3e975b47a840",
   "metadata": {},
   "outputs": [],
   "source": []
  }
 ],
 "metadata": {
  "kernelspec": {
   "display_name": "Python 3 (ipykernel)",
   "language": "python",
   "name": "python3"
  },
  "language_info": {
   "codemirror_mode": {
    "name": "ipython",
    "version": 3
   },
   "file_extension": ".py",
   "mimetype": "text/x-python",
   "name": "python",
   "nbconvert_exporter": "python",
   "pygments_lexer": "ipython3",
   "version": "3.10.8"
  }
 },
 "nbformat": 4,
 "nbformat_minor": 5
}
